{
 "cells": [
  {
   "cell_type": "code",
   "execution_count": 1,
   "metadata": {},
   "outputs": [],
   "source": [
    "# this file is used to search for the optimal parameters among all the combination of k = [3,13,23] and p = [1,2,3]\n",
    "import numpy as np\n",
    "from datetime import datetime\n",
    "from dataloader import *\n",
    "from knnmodel import *\n",
    "from sklearn.model_selection import ShuffleSplit"
   ]
  },
  {
   "cell_type": "code",
   "execution_count": 2,
   "metadata": {},
   "outputs": [],
   "source": [
    "# key function of running knn for mnist dataset\n",
    "# implement 5-folder cross validation\n",
    "# the variable \"result\" is the value of time running this Knn function.\n",
    "def RunKnnmnist(k,p,trainxdata,trainydata):\n",
    "## running knn\n",
    "    #result=np.zeros((2,3))\n",
    "    a = datetime.now()\n",
    "    rs = ShuffleSplit(n_splits=5, test_size=.2, random_state=0)\n",
    "    accuracy = 0\n",
    "    for train_index, test_index in rs.split(trainxdata):\n",
    "        train_x=trainxdata[train_index]\n",
    "        train_y=trainydata[train_index]\n",
    "        test_x=trainxdata[test_index]\n",
    "        test_y=trainydata[test_index]\n",
    "        \n",
    "        test_num = test_x.shape[0]\n",
    "        matchCount = 0\n",
    "        for i in range(test_num):\n",
    "            predict = kNNClassify(test_x[i], train_x, train_y, k,p)\n",
    "            if predict == test_y[i]:\n",
    "                matchCount += 1\n",
    "        accuracy = accuracy + (float(matchCount) / test_num)\n",
    "    accuracy = float(accuracy) / 5\n",
    "    b = datetime.now()\n",
    "    #result[0,p-1] = accuracy\n",
    "    result = (b-a).seconds\n",
    "    print(\"k=\",k,\"p=\",p,accuracy,result)\n",
    "    return accuracy, result\n",
    "\n"
   ]
  },
  {
   "cell_type": "code",
   "execution_count": 3,
   "metadata": {},
   "outputs": [],
   "source": [
    "# load data\n",
    "# since the mnist dataset contains 60000 images for training data and 10000 for testing\n",
    "# it's too great to calculate the 4-order distance\n",
    "# we only use half of the trainning dataset which is 30000 images to do the corss validation. \n",
    "trainxdata, trainydata, testxdata, testydata = loadmnist()\n",
    "xtrain=trainxdata[0:30000]\n",
    "ytrain=trainydata[0:30000]\n",
    "xtest=testxdata[0:30000]\n",
    "ytest=testydata[0:30000]\n",
    "k=np.array([3,13,23])"
   ]
  },
  {
   "cell_type": "code",
   "execution_count": 4,
   "metadata": {},
   "outputs": [
    {
     "name": "stdout",
     "output_type": "stream",
     "text": [
      "k= 3 p= 1 0.6917 5497\n",
      "k= 13 p= 1 0.6237999999999999 5498\n",
      "k= 23 p= 1 0.5906333333333335 5499\n",
      "k= 3 p= 2 0.6917 2167\n",
      "k= 13 p= 2 0.6237999999999999 2173\n",
      "k= 23 p= 2 0.5906333333333335 2172\n",
      "k= 3 p= 3 0.6917 11351\n",
      "k= 13 p= 3 0.6237999999999999 11316\n",
      "k= 23 p= 3 0.5906333333333335 11348\n"
     ]
    }
   ],
   "source": [
    "# two for loops is appied for the different combination of two parameters\n",
    "# and show the final result\n",
    "for p in range(1,4):\n",
    "    for i in range(0,3):\n",
    "        accuracy, result1= RunKnnmnist(k[i],p,xtrain,ytrain)"
   ]
  },
  {
   "cell_type": "code",
   "execution_count": null,
   "metadata": {},
   "outputs": [],
   "source": []
  }
 ],
 "metadata": {
  "kernelspec": {
   "display_name": "Python 2",
   "language": "python",
   "name": "python2"
  },
  "language_info": {
   "codemirror_mode": {
    "name": "ipython",
    "version": 3
   },
   "file_extension": ".py",
   "mimetype": "text/x-python",
   "name": "python",
   "nbconvert_exporter": "python",
   "pygments_lexer": "ipython3",
   "version": "3.5.2"
  }
 },
 "nbformat": 4,
 "nbformat_minor": 2
}
