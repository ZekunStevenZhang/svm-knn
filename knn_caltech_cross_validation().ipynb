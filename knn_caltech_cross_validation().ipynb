{
 "cells": [
  {
   "cell_type": "code",
   "execution_count": 1,
   "metadata": {},
   "outputs": [],
   "source": [
    "# this file is used to search for the optimal parameters among all the combination of k = [3,13,23] and p = [2,4,6,8]\n",
    "# we first determine the best value of c, and then search for the optimal value of k under the best c parameters\n",
    "import numpy as np\n",
    "from datetime import datetime\n",
    "from dataloader import *\n",
    "from knnmodel import *\n",
    "from sklearn.model_selection import ShuffleSplit"
   ]
  },
  {
   "cell_type": "code",
   "execution_count": 2,
   "metadata": {},
   "outputs": [],
   "source": [
    "# load data\n",
    "train_x, train_y, test_x, test_y = loadcatech()\n",
    "train_x=train_x.astype(np.double)\n",
    "train_y=train_y.astype(np.double)\n",
    "test_x=test_x.astype(np.double)\n",
    "test_y=test_y.astype(np.double)\n",
    "\n",
    "X = np.concatenate((train_x,test_x), axis=0)\n",
    "ytrain = np.concatenate((train_y,test_y), axis=0)\n",
    "\n",
    "#dimension reduction by PCA\n",
    "from sklearn.decomposition import PCA\n",
    "pca = PCA(n_components=1000)\n",
    "pca.fit(X)\n",
    "xtrain = pca.transform(X)\n",
    "\n",
    "#normalization--change all the negative value to positive\n",
    "#mean = xtrain.mean()\n",
    "#var  = xtrain.var()\n",
    "#xtrain= (xtrain - mean)/var\n",
    "#print(xtrain.shape)\n",
    "#print(ytrain.shape)\n",
    "#exitFlag = 0"
   ]
  },
  {
   "cell_type": "code",
   "execution_count": 3,
   "metadata": {},
   "outputs": [],
   "source": [
    "# key function of running knn for caltech dataset\n",
    "# implement 5-folder cross validation\n",
    "# the variable \"result\" is the value of time running this Knn function.\n",
    "def RunKnncaltech(k,p,trainxdata,trainydata):\n",
    "## running knn\n",
    "    #result=np.zeros((2,3))\n",
    "    a = datetime.now()\n",
    "    rs = ShuffleSplit(n_splits=5, test_size=.2, random_state=0)\n",
    "    accuracy = 0\n",
    "    for train_index, test_index in rs.split(trainxdata):\n",
    "        train_x=trainxdata[train_index]\n",
    "        train_y=trainydata[train_index]\n",
    "        test_x=trainxdata[test_index]\n",
    "        test_y=trainydata[test_index]\n",
    "        \n",
    "        test_num = test_x.shape[0]\n",
    "        matchCount = 0\n",
    "        for i in range(test_num):\n",
    "            predict = kNNClassify(test_x[i], train_x, train_y, k,p)\n",
    "            if predict == test_y[i]:\n",
    "                matchCount += 1\n",
    "        accuracy = accuracy + (float(matchCount) / test_num)\n",
    "    accuracy = float(accuracy) / 5\n",
    "    b = datetime.now()\n",
    "    #result[0,p-1] = accuracy\n",
    "    result = (b-a).seconds\n",
    "    print(\"k=: \",k,\"p=: \",p,accuracy,result)\n",
    "    return accuracy, result\n",
    "\n"
   ]
  },
  {
   "cell_type": "code",
   "execution_count": 4,
   "metadata": {
    "scrolled": true
   },
   "outputs": [
    {
     "name": "stdout",
     "output_type": "stream",
     "text": [
      "k=:  3 p=:  2 0.4153846153846154 0\n",
      "k=:  13 p=:  2 0.39384615384615385 0\n",
      "k=:  23 p=:  2 0.34615384615384615 0\n",
      "k=:  3 p=:  4 0.5646153846153846 17\n",
      "k=:  13 p=:  4 0.5261538461538461 18\n",
      "k=:  23 p=:  4 0.48769230769230765 18\n",
      "k=:  3 p=:  6 0.5661538461538461 18\n",
      "k=:  13 p=:  6 0.5353846153846153 18\n",
      "k=:  23 p=:  6 0.5076923076923077 18\n",
      "k=:  3 p=:  8 0.563076923076923 16\n",
      "k=:  13 p=:  8 0.5384615384615385 14\n",
      "k=:  23 p=:  8 0.5076923076923077 14\n"
     ]
    }
   ],
   "source": [
    "# two for loops is appied for the different combination of two parameters\n",
    "# and show the final result\n",
    "k=np.array([3,13,23])\n",
    "for p in range(2,9,2):\n",
    "    for i in range(0,3):\n",
    "        accuracy, result1= RunKnncaltech(k[i],p,xtrain,ytrain)"
   ]
  },
  {
   "cell_type": "code",
   "execution_count": 6,
   "metadata": {
    "scrolled": true
   },
   "outputs": [
    {
     "name": "stdout",
     "output_type": "stream",
     "text": [
      "k=:  1 p=:  6 0.5507692307692307 14\n",
      "k=:  2 p=:  6 0.5246153846153846 14\n",
      "k=:  3 p=:  6 0.5661538461538461 14\n",
      "k=:  4 p=:  6 0.5646153846153846 14\n",
      "k=:  5 p=:  6 0.5584615384615385 15\n",
      "k=:  6 p=:  6 0.5584615384615386 14\n",
      "k=:  7 p=:  6 0.5523076923076924 14\n",
      "k=:  8 p=:  6 0.5553846153846155 14\n",
      "k=:  9 p=:  6 0.56 14\n",
      "k=:  10 p=:  6 0.5384615384615385 14\n"
     ]
    }
   ],
   "source": [
    "# after find the optimal parameters which is k = 3, p =6\n",
    "# we do cross validation again to find the best k when order p is 6\n",
    "# and show the result\n",
    "for k in range(1,11):\n",
    "    #for i in range(1,10):\n",
    "    accuracy, result1= RunKnncaltech(k,6,xtrain,ytrain)"
   ]
  },
  {
   "cell_type": "code",
   "execution_count": null,
   "metadata": {},
   "outputs": [],
   "source": []
  }
 ],
 "metadata": {
  "kernelspec": {
   "display_name": "Python 2",
   "language": "python",
   "name": "python2"
  },
  "language_info": {
   "codemirror_mode": {
    "name": "ipython",
    "version": 3
   },
   "file_extension": ".py",
   "mimetype": "text/x-python",
   "name": "python",
   "nbconvert_exporter": "python",
   "pygments_lexer": "ipython3",
   "version": "3.5.2"
  }
 },
 "nbformat": 4,
 "nbformat_minor": 2
}
